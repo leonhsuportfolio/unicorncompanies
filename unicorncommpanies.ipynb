{
 "cells": [
  {
   "cell_type": "markdown",
   "id": "33dda299-ad0e-4262-b285-7d1297a3ba66",
   "metadata": {},
   "source": [
    "![Hand with calculator](calculator.jpg)\n",
    "\n",
    "Did you know that the average return from investing in stocks is [10% per year](https://www.nerdwallet.com/article/investing/average-stock-market-return) (not accounting for inflation)? But who wants to be average?! \n",
    "\n",
    "You have been asked to support an investment firm by analyzing trends in high-growth companies. They are interested in understanding which industries are producing the highest valuations and the rate at which new high-value companies are emerging. Providing them with this information gives them a competitive insight as to industry trends and how they should structure their portfolio looking forward.\n",
    "\n",
    "You have been given access to their `unicorns` database, which contains the following tables:\n",
    "\n",
    "## dates\n",
    "| Column       | Description                                  |\n",
    "|------------- |--------------------------------------------- |\n",
    "| `company_id`   | A unique ID for the company.                 |\n",
    "| `date_joined` | The date that the company became a unicorn.  |\n",
    "| `year_founded` | The year that the company was founded.       |\n",
    "\n",
    "## funding\n",
    "| Column           | Description                                  |\n",
    "|----------------- |--------------------------------------------- |\n",
    "| `company_id`       | A unique ID for the company.                 |\n",
    "| `valuation`        | Company value in US dollars.                 |\n",
    "| `funding`          | The amount of funding raised in US dollars.  |\n",
    "| `select_investors` | A list of key investors in the company.      |\n",
    "\n",
    "## industries\n",
    "| Column       | Description                                  |\n",
    "|------------- |--------------------------------------------- |\n",
    "| `company_id`   | A unique ID for the company.                 |\n",
    "| `industry`     | The industry that the company operates in.   |\n",
    "\n",
    "## companies\n",
    "| Column       | Description                                       |\n",
    "|------------- |-------------------------------------------------- |\n",
    "| `company_id`   | A unique ID for the company.                      |\n",
    "| `company`      | The name of the company.                          |\n",
    "| `city`         | The city where the company is headquartered.      |\n",
    "| `country`      | The country where the company is headquartered.   |\n",
    "| `continent`    | The continent where the company is headquartered. |\n"
   ]
  },
  {
   "cell_type": "markdown",
   "id": "48a34f18-9207-4a1d-9c91-0b1a4aec770d",
   "metadata": {},
   "source": [
    "# The output\n",
    "\n",
    "Your query should return a table in the following format:\n",
    "| industry  | year | num\\_unicorns       | average\\_valuation\\_billions |\n",
    "| --------- | ---- | ------------------- | ---------------------------- |\n",
    "| industry1 | 2021 |        ---          |             ---              |\n",
    "| industry2 | 2020 |        ---          |             ---              |\n",
    "| industry3 | 2019 |        ---          |             ---              |\n",
    "| industry1 | 2021 |        ---          |             ---              |\n",
    "| industry2 | 2020 |        ---          |             ---              |\n",
    "| industry3 | 2019 |        ---          |             ---              |\n",
    "| industry1 | 2021 |        ---          |             ---              |\n",
    "| industry2 | 2020 |        ---          |             ---              |\n",
    "| industry3 | 2019 |        ---          |             ---              |\n",
    "\n",
    "Where `industry1`, `industry2`, and `industry3` are the three top-performing industries."
   ]
  },
  {
   "cell_type": "code",
   "execution_count": 36,
   "id": "59ad904a-45ba-465f-a611-569684d02f6d",
   "metadata": {
    "customType": "sql",
    "dataFrameVariableName": "df1",
    "executionCancelledAt": null,
    "executionTime": null,
    "lastExecutedAt": null,
    "lastExecutedByKernel": null,
    "lastScheduledRunId": null,
    "lastSuccessfullyExecutedCode": null,
    "outputsMetadata": {
     "0": {
      "height": 550,
      "tableState": {
       "customFilter": {
        "const": {
         "type": "boolean",
         "valid": true,
         "value": true
        },
        "id": "a1e5bcc8-1cd5-4d82-877c-5c319e112395",
        "nodeType": "const"
       }
      },
      "type": "dataFrame"
     }
    },
    "sqlCellMode": "dataFrame",
    "sqlSource": {
     "integrationId": "89e17161-a224-4a8a-846b-0adc0fe7a4b1",
     "type": "integration"
    }
   },
   "outputs": [
    {
     "@datacamp/metadata": {
      "executedQuery": "WITH rank_created AS(\nSELECT\n\tindustry,\n\t\"year\",\n\tnum_unicorns,\n\taverage_valuation_billions,\n\tDENSE_RANK() OVER(PARTITION BY year ORDER BY num_unicorns DESC) AS rank\nFROM(\n\tSELECT\n   \t\tindustry,\n\t\tCOUNT(*) AS num_unicorns,\n\t\tEXTRACT(year FROM d.date_joined) AS \"year\",\n\t\tROUND(AVG(valuation)/1000000000, 2) AS average_valuation_billions\n\tFROM \n    \tcompanies c\n\tINNER JOIN industries i ON c.company_id = i.company_id\n\tINNER JOIN funding f on c.company_id = f.company_id\n\tINNER JOIN dates d ON c.company_id = d.company_id\n\tWHERE EXTRACT(year FROM d.date_joined) IN (2021, 2020, 2019)\n\tGROUP BY\n\t\tindustry,\n\t\t\"year\"\n) AS top_industry\nGROUP BY \n\tindustry,\n\t\"year\",\n\tnum_unicorns,\n\taverage_valuation_billions\n)\nSELECT\n\tindustry,\n\t\"year\",\n\tnum_unicorns,\n\taverage_valuation_billions\nFROM rank_created\nWHERE rank IN (1,2,3)\nORDER BY year DESC, num_unicorns DESC",
      "executedQueryParameters": []
     },
     "data": {
      "application/com.datacamp.data-table.v2+json": {
       "table": {
        "data": {
         "average_valuation_billions": [
          2.75,
          2.15,
          2.47,
          4.35,
          4,
          4.33,
          6.8,
          4.5,
          4.23
         ],
         "index": [
          0,
          1,
          2,
          3,
          4,
          5,
          6,
          7,
          8
         ],
         "industry": [
          "Fintech",
          "Internet software & services",
          "E-commerce & direct-to-consumer",
          "Internet software & services",
          "E-commerce & direct-to-consumer",
          "Fintech",
          "Fintech",
          "Artificial intelligence",
          "Internet software & services"
         ],
         "num_unicorns": [
          138,
          119,
          47,
          20,
          16,
          15,
          20,
          14,
          13
         ],
         "year": [
          2021,
          2021,
          2021,
          2020,
          2020,
          2020,
          2019,
          2019,
          2019
         ]
        },
        "schema": {
         "fields": [
          {
           "name": "index",
           "type": "integer"
          },
          {
           "name": "industry",
           "type": "string"
          },
          {
           "name": "year",
           "type": "integer"
          },
          {
           "name": "num_unicorns",
           "type": "integer"
          },
          {
           "name": "average_valuation_billions",
           "type": "number"
          }
         ],
         "pandas_version": "1.4.0",
         "primaryKey": [
          "index"
         ]
        }
       },
       "total_rows": 9,
       "truncation_type": null
      },
      "text/html": [
       "<div>\n",
       "<style scoped>\n",
       "    .dataframe tbody tr th:only-of-type {\n",
       "        vertical-align: middle;\n",
       "    }\n",
       "\n",
       "    .dataframe tbody tr th {\n",
       "        vertical-align: top;\n",
       "    }\n",
       "\n",
       "    .dataframe thead th {\n",
       "        text-align: right;\n",
       "    }\n",
       "</style>\n",
       "<table border=\"1\" class=\"dataframe\">\n",
       "  <thead>\n",
       "    <tr style=\"text-align: right;\">\n",
       "      <th></th>\n",
       "      <th>industry</th>\n",
       "      <th>year</th>\n",
       "      <th>num_unicorns</th>\n",
       "      <th>average_valuation_billions</th>\n",
       "    </tr>\n",
       "  </thead>\n",
       "  <tbody>\n",
       "    <tr>\n",
       "      <th>0</th>\n",
       "      <td>Fintech</td>\n",
       "      <td>2021</td>\n",
       "      <td>138</td>\n",
       "      <td>2.75</td>\n",
       "    </tr>\n",
       "    <tr>\n",
       "      <th>1</th>\n",
       "      <td>Internet software &amp; services</td>\n",
       "      <td>2021</td>\n",
       "      <td>119</td>\n",
       "      <td>2.15</td>\n",
       "    </tr>\n",
       "    <tr>\n",
       "      <th>2</th>\n",
       "      <td>E-commerce &amp; direct-to-consumer</td>\n",
       "      <td>2021</td>\n",
       "      <td>47</td>\n",
       "      <td>2.47</td>\n",
       "    </tr>\n",
       "    <tr>\n",
       "      <th>3</th>\n",
       "      <td>Internet software &amp; services</td>\n",
       "      <td>2020</td>\n",
       "      <td>20</td>\n",
       "      <td>4.35</td>\n",
       "    </tr>\n",
       "    <tr>\n",
       "      <th>4</th>\n",
       "      <td>E-commerce &amp; direct-to-consumer</td>\n",
       "      <td>2020</td>\n",
       "      <td>16</td>\n",
       "      <td>4.00</td>\n",
       "    </tr>\n",
       "    <tr>\n",
       "      <th>5</th>\n",
       "      <td>Fintech</td>\n",
       "      <td>2020</td>\n",
       "      <td>15</td>\n",
       "      <td>4.33</td>\n",
       "    </tr>\n",
       "    <tr>\n",
       "      <th>6</th>\n",
       "      <td>Fintech</td>\n",
       "      <td>2019</td>\n",
       "      <td>20</td>\n",
       "      <td>6.80</td>\n",
       "    </tr>\n",
       "    <tr>\n",
       "      <th>7</th>\n",
       "      <td>Artificial intelligence</td>\n",
       "      <td>2019</td>\n",
       "      <td>14</td>\n",
       "      <td>4.50</td>\n",
       "    </tr>\n",
       "    <tr>\n",
       "      <th>8</th>\n",
       "      <td>Internet software &amp; services</td>\n",
       "      <td>2019</td>\n",
       "      <td>13</td>\n",
       "      <td>4.23</td>\n",
       "    </tr>\n",
       "  </tbody>\n",
       "</table>\n",
       "</div>"
      ],
      "text/plain": [
       "                          industry  ...  average_valuation_billions\n",
       "0                          Fintech  ...                        2.75\n",
       "1     Internet software & services  ...                        2.15\n",
       "2  E-commerce & direct-to-consumer  ...                        2.47\n",
       "3     Internet software & services  ...                        4.35\n",
       "4  E-commerce & direct-to-consumer  ...                        4.00\n",
       "5                          Fintech  ...                        4.33\n",
       "6                          Fintech  ...                        6.80\n",
       "7          Artificial intelligence  ...                        4.50\n",
       "8     Internet software & services  ...                        4.23\n",
       "\n",
       "[9 rows x 4 columns]"
      ]
     },
     "execution_count": 36,
     "metadata": {
      "application/com.datacamp.data-table.v2+json": {
       "status": "success"
      }
     },
     "output_type": "execute_result"
    }
   ],
   "source": [
    "WITH rank_created AS(\n",
    "    SELECT\n",
    "    \tindustry,\n",
    "    \t\"year\",\n",
    "    \tnum_unicorns,\n",
    "    \taverage_valuation_billions,\n",
    "    \tDENSE_RANK() OVER(PARTITION BY year ORDER BY num_unicorns DESC) AS rank\n",
    "    FROM(\n",
    "    \tSELECT\n",
    "       \t\tindustry,\n",
    "    \t\tCOUNT(*) AS num_unicorns,\n",
    "    \t\tEXTRACT(year FROM d.date_joined) AS \"year\",\n",
    "    \t\tROUND(AVG(valuation)/1000000000, 2) AS average_valuation_billions\n",
    "    \tFROM \n",
    "        \tcompanies c\n",
    "    \tINNER JOIN industries i ON c.company_id = i.company_id\n",
    "    \tINNER JOIN funding f on c.company_id = f.company_id\n",
    "    \tINNER JOIN dates d ON c.company_id = d.company_id\n",
    "    WHERE EXTRACT(year FROM d.date_joined) IN (2021, 2020, 2019)\n",
    "\tGROUP BY\n",
    "\t\tindustry,\n",
    "\t\t\"year\"\n",
    "    ) AS top_industry\n",
    "    GROUP BY \n",
    "    \tindustry,\n",
    "    \t\"year\",\n",
    "    \tnum_unicorns,\n",
    "    \taverage_valuation_billions\n",
    ")\n",
    "SELECT\n",
    "\tindustry,\n",
    "\t\"year\",\n",
    "\tnum_unicorns,\n",
    "\taverage_valuation_billions\n",
    "FROM rank_created\n",
    "WHERE rank IN (1,2,3)\n",
    "ORDER BY year DESC, num_unicorns DESC\n"
   ]
  }
 ],
 "metadata": {
  "colab": {
   "name": "Welcome to DataCamp Workspaces.ipynb",
   "provenance": []
  },
  "kernelspec": {
   "display_name": "Python [conda env:base] *",
   "language": "python",
   "name": "conda-base-py"
  },
  "language_info": {
   "codemirror_mode": {
    "name": "ipython",
    "version": 3
   },
   "file_extension": ".py",
   "mimetype": "text/x-python",
   "name": "python",
   "nbconvert_exporter": "python",
   "pygments_lexer": "ipython3",
   "version": "3.13.5"
  }
 },
 "nbformat": 4,
 "nbformat_minor": 5
}
